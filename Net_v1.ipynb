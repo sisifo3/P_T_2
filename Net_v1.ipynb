{
  "nbformat": 4,
  "nbformat_minor": 0,
  "metadata": {
    "colab": {
      "name": "Net_v1.ipynb",
      "provenance": [],
      "collapsed_sections": [],
      "mount_file_id": "1JxTLbfuVbdK7gQYEmYmRVXZH2Q0XqN_A",
      "authorship_tag": "ABX9TyPfwxPw31bdbHzeNHa1stKv",
      "include_colab_link": true
    },
    "kernelspec": {
      "name": "python3",
      "display_name": "Python 3"
    },
    "language_info": {
      "name": "python"
    },
    "accelerator": "GPU"
  },
  "cells": [
    {
      "cell_type": "markdown",
      "metadata": {
        "id": "view-in-github",
        "colab_type": "text"
      },
      "source": [
        "<a href=\"https://colab.research.google.com/github/sisifo3/P_T_2/blob/main/Net_v1.ipynb\" target=\"_parent\"><img src=\"https://colab.research.google.com/assets/colab-badge.svg\" alt=\"Open In Colab\"/></a>"
      ]
    },
    {
      "cell_type": "code",
      "metadata": {
        "id": "mI6aXRlrhJTh"
      },
      "source": [
        "import argparse\n",
        "import pandas as pd\n",
        "import numpy as np\n",
        "import torch.nn.parallel\n",
        "import torch.backends.cudnn as cudnn\n",
        "import torch.optim\n",
        "import torch.utils.data\n",
        "import torch.utils.data.distributed\n",
        "import torchvision.transforms as transforms\n",
        "from torch.utils.data import Dataset\n",
        "import torch.optim as optim\n",
        "import torch\n",
        "import torch.nn as nn\n"
      ],
      "execution_count": null,
      "outputs": []
    },
    {
      "cell_type": "code",
      "metadata": {
        "id": "OS42bze-hckY"
      },
      "source": [
        "\n",
        "class NoisyImages():\n",
        "    def __init__(self,transform=None):\n",
        "        self.dataset = pd.read_csv('/content/drive/MyDrive/train_circle_v4/train_set_v2.csv', sep=' ')\n",
        "        self.transform = transform\n",
        "\n",
        "    def __getitem__(self, idx):\n",
        "        image = np.load(self.dataset.iloc[idx, 0].split(',')[0])\n",
        "        target = [self.dataset.iloc[idx, 0].split(',')[i] for i in range(1, 4)]\n",
        "        \n",
        "        if self.transform:\n",
        "            image = np.expand_dims(np.asarray(image), axis=0)\n",
        "            image = torch.from_numpy(np.array(image, dtype=np.float32))\n",
        "            target = torch.from_numpy(np.array(np.asarray(target), dtype=np.float32))\n",
        "            image = self.transform(image)\n",
        "\n",
        "        return image, target\n",
        "\n",
        "    def __len__(self):\n",
        "        return len(self.dataset)\n"
      ],
      "execution_count": null,
      "outputs": []
    },
    {
      "cell_type": "code",
      "metadata": {
        "id": "ZETRMDDNP6WZ"
      },
      "source": [
        "def get_device():\n",
        "    if torch.cuda.is_available():\n",
        "        device = 'cuda:0'\n",
        "    else:\n",
        "        device = 'cpu'\n",
        "    return device\n",
        "device = get_device()"
      ],
      "execution_count": null,
      "outputs": []
    },
    {
      "cell_type": "code",
      "metadata": {
        "id": "lIwd5iOPI07I"
      },
      "source": [
        "import torch.nn as nn\n",
        "\n",
        "\n",
        "class Net(nn.Module):\n",
        "    def __init__(self):\n",
        "        super(Net, self).__init__()\n",
        "        # input images 1 * 200 * 200\n",
        "        self.L1 = nn.Sequential(nn.Conv2d(1, 32, 5), nn.BatchNorm2d(32), nn.ReLU(), nn.MaxPool2d(2, 2))  # 32 * 98 * 98\n",
        "        self.L2 = nn.Sequential(nn.Conv2d(32, 64, 3), nn.BatchNorm2d(64), nn.ReLU(), nn.MaxPool2d(2, 2))  # 64 * 48 * 48\n",
        "        self.L3 = nn.Sequential(nn.Conv2d(64, 128, 3), nn.BatchNorm2d(128), nn.ReLU(), nn.MaxPool2d(2, 2))  # 128 * 23 * 23\n",
        "        self.L4 = nn.Sequential(nn.Conv2d(128, 128, 3), nn.BatchNorm2d(128), nn.ReLU())  # 128 * 21 * 21\n",
        "        self.L5 = nn.Sequential(nn.Conv2d(128, 4, 1), nn.BatchNorm2d(4), nn.ReLU())  # 4 * 21 * 21\n",
        "        self.FC = nn.Sequential(nn.Linear(4 * 21* 21, 256), nn.ReLU(), nn.Linear(256, 16), nn.ReLU())\n",
        "        self.Last = nn.Linear(16, 3)\n",
        "\n",
        "    def forward(self, x):\n",
        "        x = self.L5(self.L4(self.L3(self.L2(self.L1(x)))))\n",
        "        B, C, H, W = x.shape\n",
        "        x = x.view(-1, C * H * W)\n",
        "        x = self.FC(x)\n",
        "        x = self.Last(x)\n",
        "        return x"
      ],
      "execution_count": null,
      "outputs": []
    },
    {
      "cell_type": "code",
      "metadata": {
        "id": "HJdliCC0ObGK"
      },
      "source": [
        "def adjust_learning_rate(optimizer, epoch):\n",
        "    \"\"\"Sets the learning rate\"\"\"\n",
        "    lr = 0.001\n",
        "    if 20 < epoch <= 30:\n",
        "        lr = 0.0001\n",
        "    elif 30 < epoch :\n",
        "        lr = 0.00001\n",
        "    for param_group in optimizer.param_groups:\n",
        "        param_group['lr'] = lr\n",
        "    print(\"learning rate -> {}\\n\".format(lr))\n"
      ],
      "execution_count": null,
      "outputs": []
    },
    {
      "cell_type": "code",
      "metadata": {
        "colab": {
          "base_uri": "https://localhost:8080/"
        },
        "id": "mRxPLv7lhm3J",
        "outputId": "0cc68947-6941-4702-c415-c9a726371732"
      },
      "source": [
        "def main():\n",
        "\n",
        "    model = Net()\n",
        "    #model = nn.DataParallel(model)\n",
        "    model.to(device)\n",
        "\n",
        "    criterion1 = nn.MSELoss()\n",
        "    criterion2 = nn.L1Loss()\n",
        "\n",
        "    optimizer = optim.Adam(model.parameters(), lr =0.001)\n",
        "\n",
        "    cudnn.benchmark = True\n",
        "    normalize = transforms.Normalize(mean=[0.5], std=[0.5])\n",
        "\n",
        "    trainset = NoisyImages(transforms.Compose([normalize,]))\n",
        "\n",
        "    print(trainset)\n",
        "    train_loader = torch.utils.data.DataLoader(\n",
        "        trainset, batch_size= 256, shuffle=True,\n",
        "        num_workers=2)\n",
        "\n",
        "    #output = open(args.out_file, \"w\")\n",
        "    for epoch in range(1):\n",
        "        print('Epoch {}'.format(epoch))\n",
        "\n",
        "        #adjust_learning_rate(optimizer, epoch)\n",
        "        model.train()\n",
        "        running_loss = 0.0\n",
        "        \n",
        "\n",
        "        for i, (images, target) in enumerate(train_loader):\n",
        "\n",
        "            images = images.to(device)\n",
        "            target = target.to(device)\n",
        "\n",
        "            output = model(images)\n",
        "\n",
        "            loss = criterion1(output, target/200) + 0.1 * criterion2(output, target/200)\n",
        "\n",
        "            # compute gradient and do optimizer step\n",
        "            optimizer.zero_grad()\n",
        "            loss.backward()\n",
        "            optimizer.step()\n",
        "\n",
        "            running_loss += loss.item()\n",
        "            print('Loss: {:.4f}'.format(loss))\n",
        "main()"
      ],
      "execution_count": null,
      "outputs": [
        {
          "output_type": "stream",
          "name": "stdout",
          "text": [
            "<__main__.NoisyImages object at 0x7fa37d6feb90>\n",
            "Epoch 0\n",
            "Loss: 0.3392\n",
            "Loss: 0.1542\n",
            "Loss: 0.2959\n",
            "Loss: 0.0991\n",
            "Loss: 0.1051\n",
            "Loss: 0.1155\n",
            "Loss: 0.0994\n",
            "Loss: 0.0866\n",
            "Loss: 0.0865\n",
            "Loss: 0.0969\n",
            "Loss: 0.0878\n",
            "Loss: 0.0966\n",
            "Loss: 0.0842\n",
            "Loss: 0.0848\n",
            "Loss: 0.0910\n",
            "Loss: 0.0908\n",
            "Loss: 0.0823\n",
            "Loss: 0.0852\n",
            "Loss: 0.0822\n",
            "Loss: 0.0821\n",
            "Loss: 0.0836\n",
            "Loss: 0.0842\n",
            "Loss: 0.0836\n",
            "Loss: 0.0800\n",
            "Loss: 0.0807\n",
            "Loss: 0.0836\n",
            "Loss: 0.0845\n",
            "Loss: 0.0806\n",
            "Loss: 0.0793\n",
            "Loss: 0.0831\n",
            "Loss: 0.0806\n",
            "Loss: 0.0855\n",
            "Loss: 0.0850\n",
            "Loss: 0.0850\n",
            "Loss: 0.0876\n",
            "Loss: 0.0912\n",
            "Loss: 0.0860\n",
            "Loss: 0.0827\n",
            "Loss: 0.0836\n",
            "Loss: 0.0804\n"
          ]
        }
      ]
    },
    {
      "cell_type": "code",
      "metadata": {
        "colab": {
          "base_uri": "https://localhost:8080/"
        },
        "id": "XMop_7rsVbDP",
        "outputId": "0f425d54-e2bb-4b78-8a0e-0eef71919475"
      },
      "source": [
        "import numpy as np\n",
        "from shapely.geometry.point import Point\n",
        "from skimage.draw import circle_perimeter_aa\n",
        "import torch\n",
        "import torch.nn.parallel\n",
        "import torch.optim\n",
        "import torch.utils.data\n",
        "import torch.utils.data.distributed\n",
        "import torchvision.transforms as transforms\n",
        "#from network import Net\n",
        "\n",
        "\n",
        "def draw_circle(img, row, col, rad):\n",
        "    rr, cc, val = circle_perimeter_aa(row, col, rad)\n",
        "    valid = (\n",
        "        (rr >= 0) &\n",
        "        (rr < img.shape[0]) &\n",
        "        (cc >= 0) &\n",
        "        (cc < img.shape[1])\n",
        "    )\n",
        "    img[rr[valid], cc[valid]] = val[valid]\n",
        "\n",
        "\n",
        "def noisy_circle(size, radius, noise):\n",
        "    img = np.zeros((size, size), dtype=np.float)\n",
        "\n",
        "    # Circle\n",
        "    row = np.random.randint(size)\n",
        "    col = np.random.randint(size)\n",
        "    rad = np.random.randint(10, max(10, radius))\n",
        "    draw_circle(img, row, col, rad)\n",
        "\n",
        "    # Noise\n",
        "    img += noise * np.random.rand(*img.shape)\n",
        "    return (row, col, rad), img\n",
        "\n",
        "\n",
        "def find_circle(img):\n",
        "    #model = Net()\n",
        "    #checkpoint = torch.load('model.pth.tar')\n",
        "    #model.load_state_dict(checkpoint)\n",
        "    model.eval()\n",
        "\n",
        "    with torch.no_grad():\n",
        "        image = np.expand_dims(np.asarray(img), axis=0)\n",
        "        image = torch.from_numpy(np.array(image, dtype=np.float32))\n",
        "        normalize = transforms.Normalize(mean=[0.5], std=[0.5])\n",
        "        image = normalize (image)\n",
        "        image = image.unsqueeze(0)\n",
        "        output = model(image)\n",
        "\n",
        "    return [round(i) for i in (200*output).tolist()[0]]\n",
        "\n",
        "\n",
        "def iou(params0, params1):\n",
        "    row0, col0, rad0 = params0\n",
        "    row1, col1, rad1 = params1\n",
        "\n",
        "    shape0 = Point(row0, col0).buffer(rad0)\n",
        "    shape1 = Point(row1, col1).buffer(rad1)\n",
        "\n",
        "    return (\n",
        "        shape0.intersection(shape1).area /\n",
        "        shape0.union(shape1).area\n",
        "    )\n",
        "\n",
        "\n",
        "def main():\n",
        "    results = []\n",
        "    for _ in range(1000):\n",
        "        params, img = noisy_circle(200, 75, 1)\n",
        "        detected = find_circle(img)\n",
        "        results.append(iou(params, detected))\n",
        "    results = np.array(results)\n",
        "    print((results > 0.7).mean())\n",
        "\n",
        "\n",
        "if __name__ == '__main__':\n",
        "    main()"
      ],
      "execution_count": null,
      "outputs": [
        {
          "output_type": "stream",
          "name": "stdout",
          "text": [
            "0.0\n"
          ]
        }
      ]
    },
    {
      "cell_type": "code",
      "metadata": {
        "colab": {
          "base_uri": "https://localhost:8080/",
          "height": 234
        },
        "id": "F1JidYV2Urej",
        "outputId": "efc131ac-44e2-4f9a-9490-f573ebc26867"
      },
      "source": [
        "\n",
        "def find_circle(img):\n",
        "    model = Net()\n",
        "    #checkpoint = torch.load('model.pth.tar')\n",
        "    #model.load_state_dict(checkpoint)\n",
        "    model.eval()\n",
        "\n",
        "    with torch.no_grad():\n",
        "        image = np.expand_dims(np.asarray(img), axis=0)\n",
        "        image = torch.from_numpy(np.array(image, dtype=np.float32))\n",
        "        normalize = transforms.Normalize(mean=[0.5], std=[0.5])\n",
        "        image = normalize (image)\n",
        "        image = image.unsqueeze(0)\n",
        "        output = model(image)\n",
        "\n",
        "    return [round(i) for i in (200*output).tolist()[0]]\n",
        "\n",
        "import cv2\n",
        "from google.colab.patches import cv2_imshow\n",
        "\n",
        "data1 = '/content/drive/MyDrive/Screenshot from 2021-09-25 19-40-30_200200.png'\n",
        "img = cv2.imread(data1, cv2.IMREAD_GRAYSCALE)\n",
        "cv2_imshow(img)\n",
        "\n",
        "detected = find_circle(img)\n",
        "print(detected)"
      ],
      "execution_count": null,
      "outputs": [
        {
          "output_type": "display_data",
          "data": {
            "image/png": "[encoded data removed]",
            "text/plain": [
              "<PIL.Image.Image image mode=L size=200x200 at 0x7FA37CD31750>"
            ]
          },
          "metadata": {}
        },
        {
          "output_type": "stream",
          "name": "stdout",
          "text": [
            "[27, -25, -68]\n"
          ]
        }
      ]
    },
    {
      "cell_type": "code",
      "metadata": {
        "colab": {
          "base_uri": "https://localhost:8080/",
          "height": 269
        },
        "id": "ya4LNkVwZ9Ke",
        "outputId": "c23ac3dd-e5d5-454e-f8af-498f3d467248"
      },
      "source": [
        "import matplotlib.pyplot as plt\n",
        "\n",
        "y = 27\n",
        "x = -25\n",
        "r = 68\n",
        "plt.axis([0, 200, 0, 200])\n",
        "c = plt.Circle((x,y), radius=r)\n",
        "plt.gca().add_artist(c)\n",
        "plt.show()"
      ],
      "execution_count": null,
      "outputs": [
        {
          "output_type": "display_data",
          "data": {
            "image/png": "[encoded data removed]",
            "text/plain": [
              "<Figure size 432x288 with 1 Axes>"
            ]
          },
          "metadata": {
            "needs_background": "light"
          }
        }
      ]
    }
  ]
}