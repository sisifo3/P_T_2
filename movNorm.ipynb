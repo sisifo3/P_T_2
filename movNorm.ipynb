{
  "nbformat": 4,
  "nbformat_minor": 0,
  "metadata": {
    "colab": {
      "name": "movNorm.ipynb",
      "provenance": [],
      "authorship_tag": "ABX9TyMl+38z5e3hVNwdGGV7x45O",
      "include_colab_link": true
    },
    "kernelspec": {
      "name": "python3",
      "display_name": "Python 3"
    },
    "language_info": {
      "name": "python"
    }
  },
  "cells": [
    {
      "cell_type": "markdown",
      "metadata": {
        "id": "view-in-github",
        "colab_type": "text"
      },
      "source": [
        "<a href=\"https://colab.research.google.com/github/sisifo3/P_T_2/blob/main/movNorm.ipynb\" target=\"_parent\"><img src=\"https://colab.research.google.com/assets/colab-badge.svg\" alt=\"Open In Colab\"/></a>"
      ]
    },
    {
      "cell_type": "code",
      "metadata": {
        "id": "Z31A8c9eWv9C"
      },
      "source": [
        "import numpy as np \n",
        "from numpy.linalg import norm  \n",
        "import math"
      ],
      "execution_count": 8,
      "outputs": []
    },
    {
      "cell_type": "code",
      "metadata": {
        "colab": {
          "base_uri": "https://localhost:8080/"
        },
        "id": "IxuVk1dvOBhE",
        "outputId": "5c42a15e-6032-457f-aa14-94871badb7b5"
      },
      "source": [
        "# en esta parte del código buscamos resolver la ecuación que nos ayuda a hacer el moviemiento de la normal de cada punto.\n",
        "\n",
        "# [[cos(pi\\2) , -sin(pi/2)] , [sin(pi/2, cos(pi/2))]] * (1/2) * ((pi - pil)/||(pi - pil))|| + (pin - pil)/||(pin - pi)||2\n",
        "# (r) * (1/2) * ((a/b) + (c/d))\n",
        "\n",
        "r1 = [[0,-1],[1,0]]\n",
        "p = [[50,55],[100,120],[150,135],[200,120],[250,55]]\n",
        "pi = p[3]\n",
        "pil = p[2]\n",
        "pin = p[4]\n",
        "\n",
        "\n",
        "\n",
        "print(\"pi\",pi)\n",
        "print(\"pil\", pil)\n",
        "a = np.subtract(pi,pil)\n",
        "print(\"a\", a)\n",
        "b = norm(a,2)\n",
        "print(\"b\",b)\n",
        "\n",
        "c = np.subtract(pin,pi)\n",
        "d = norm(c,2) \n",
        "\n",
        "print(c)\n",
        "print(d)\n",
        "\n",
        "\n",
        "ab = np.divide(a,b)\n",
        "print(ab)\n",
        "\n",
        "cd = np.divide(c,d) \n",
        "print(cd)\n",
        "\n",
        "abcd = np.add(ab,cd)\n",
        "print(abcd)\n",
        "\n",
        "r2 = (1/2) * abcd\n",
        "print(\"r2\", r2)\n",
        "\n",
        "r = r1 * r2\n",
        "print(r)\n"
      ],
      "execution_count": 13,
      "outputs": [
        {
          "output_type": "stream",
          "name": "stdout",
          "text": [
            "pi [200, 120]\n",
            "pil [150, 135]\n",
            "a [ 50 -15]\n",
            "b 52.20153254455275\n",
            "[ 50 -65]\n",
            "82.00609733428362\n",
            "[ 0.95782629 -0.28734789]\n",
            "[ 0.60971076 -0.79262399]\n",
            "[ 1.56753705 -1.07997187]\n",
            "r2 [ 0.78376852 -0.53998594]\n",
            "[[ 0.          0.53998594]\n",
            " [ 0.78376852 -0.        ]]\n"
          ]
        }
      ]
    },
    {
      "cell_type": "code",
      "metadata": {
        "colab": {
          "base_uri": "https://localhost:8080/"
        },
        "id": "OvbyXmCxbqk7",
        "outputId": "d27b1c40-1434-4938-a06e-6ab895d39ff7"
      },
      "source": [
        "x = r[0][1]\n",
        "y = r[1][0]\n",
        "print(x)\n",
        "print(y)\n",
        "\n",
        "t = math.atan(y/x)\n",
        "print(t)\n",
        "td = math.degrees(t)\n",
        "print(td)"
      ],
      "execution_count": 14,
      "outputs": [
        {
          "output_type": "stream",
          "name": "stdout",
          "text": [
            "0.5399859373354727\n",
            "0.7837685230354219\n",
            "0.9675175792792828\n",
            "55.434673897416936\n"
          ]
        }
      ]
    },
    {
      "cell_type": "code",
      "metadata": {
        "id": "aIO0dgc2CgOP"
      },
      "source": [
        ""
      ],
      "execution_count": null,
      "outputs": []
    }
  ]
}