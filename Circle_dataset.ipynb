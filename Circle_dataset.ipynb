{
  "nbformat": 4,
  "nbformat_minor": 0,
  "metadata": {
    "colab": {
      "name": "Circle_dataset.ipynb",
      "provenance": [],
      "mount_file_id": "1ULH3by6tBr47pl-GzEw-xXQu3w6Hc0D_",
      "authorship_tag": "ABX9TyNx1YRiCJ7CgrhDgCerbslv",
      "include_colab_link": true
    },
    "kernelspec": {
      "name": "python3",
      "display_name": "Python 3"
    },
    "language_info": {
      "name": "python"
    }
  },
  "cells": [
    {
      "cell_type": "markdown",
      "metadata": {
        "id": "view-in-github",
        "colab_type": "text"
      },
      "source": [
        "<a href=\"https://colab.research.google.com/github/sisifo3/P_T_2/blob/main/Circle_dataset.ipynb\" target=\"_parent\"><img src=\"https://colab.research.google.com/assets/colab-badge.svg\" alt=\"Open In Colab\"/></a>"
      ]
    },
    {
      "cell_type": "code",
      "metadata": {
        "colab": {
          "base_uri": "https://localhost:8080/"
        },
        "id": "9fkbe1aMgc1G",
        "outputId": "5e0b9518-1272-4b6a-a3a2-62522f8c7b85"
      },
      "source": [
        "!git clone https://github.com/hsouri/Cirlcle-Detection-CNN"
      ],
      "execution_count": 1,
      "outputs": [
        {
          "output_type": "stream",
          "name": "stdout",
          "text": [
            "Cloning into 'Cirlcle-Detection-CNN'...\n",
            "remote: Enumerating objects: 128, done.\u001b[K\n",
            "remote: Counting objects: 100% (3/3), done.\u001b[K\n",
            "remote: Compressing objects: 100% (3/3), done.\u001b[K\n",
            "remote: Total 128 (delta 0), reused 0 (delta 0), pack-reused 125\u001b[K\n",
            "Receiving objects: 100% (128/128), 2.69 MiB | 20.42 MiB/s, done.\n",
            "Resolving deltas: 100% (63/63), done.\n"
          ]
        }
      ]
    },
    {
      "cell_type": "code",
      "metadata": {
        "colab": {
          "base_uri": "https://localhost:8080/"
        },
        "id": "s5l5xWQhB_mo",
        "outputId": "ffb530d1-3bbf-4a4c-ec35-4c464accc716"
      },
      "source": [
        "!ls"
      ],
      "execution_count": 2,
      "outputs": [
        {
          "output_type": "stream",
          "name": "stdout",
          "text": [
            "Cirlcle-Detection-CNN  drive  sample_data\n"
          ]
        }
      ]
    },
    {
      "cell_type": "code",
      "metadata": {
        "colab": {
          "base_uri": "https://localhost:8080/"
        },
        "id": "Ki84j41P_j8n",
        "outputId": "0fa37bbd-9fd7-4f9f-fa66-1ad9648dc400"
      },
      "source": [
        "%cd Cirlcle-Detection-CNN"
      ],
      "execution_count": 3,
      "outputs": [
        {
          "output_type": "stream",
          "name": "stdout",
          "text": [
            "/content/Cirlcle-Detection-CNN\n"
          ]
        }
      ]
    },
    {
      "cell_type": "code",
      "metadata": {
        "colab": {
          "base_uri": "https://localhost:8080/"
        },
        "id": "NIfg68QDgnJR",
        "outputId": "8c06502f-8154-4d8d-8876-9ed9c8c6b54d"
      },
      "source": [
        "pip install -r requirments.txt"
      ],
      "execution_count": 4,
      "outputs": [
        {
          "output_type": "stream",
          "name": "stdout",
          "text": [
            "Collecting numpy==1.13.3\n",
            "  Downloading numpy-1.13.3.zip (5.0 MB)\n",
            "\u001b[K     |████████████████████████████████| 5.0 MB 5.2 MB/s \n",
            "\u001b[?25hCollecting torch==0.4.1\n",
            "  Downloading torch-0.4.1-cp37-cp37m-manylinux1_x86_64.whl (519.5 MB)\n",
            "\u001b[K     |████████████████████████████████| 519.5 MB 22 kB/s \n",
            "\u001b[?25hCollecting scikit_image==0.13.0\n",
            "  Downloading scikit-image-0.13.0.tar.gz (26.1 MB)\n",
            "\u001b[K     |████████████████████████████████| 26.1 MB 125 kB/s \n",
            "\u001b[?25hCollecting Shapely==1.6.4.post2\n",
            "  Downloading Shapely-1.6.4.post2-cp37-cp37m-manylinux1_x86_64.whl (1.5 MB)\n",
            "\u001b[K     |████████████████████████████████| 1.5 MB 42.9 MB/s \n",
            "\u001b[?25hCollecting matplotlib==3.1.0\n",
            "  Downloading matplotlib-3.1.0-cp37-cp37m-manylinux1_x86_64.whl (13.1 MB)\n",
            "\u001b[K     |████████████████████████████████| 13.1 MB 73 kB/s \n",
            "\u001b[?25hCollecting tqdm==4.32.1\n",
            "  Downloading tqdm-4.32.1-py2.py3-none-any.whl (49 kB)\n",
            "\u001b[K     |████████████████████████████████| 49 kB 5.2 MB/s \n",
            "\u001b[?25hCollecting skimage==0.0\n",
            "  Downloading skimage-0.0.tar.gz (757 bytes)\n",
            "\u001b[33mWARNING: Discarding https://files.pythonhosted.org/packages/3b/ee/edbfa69ba7b7d9726e634bfbeefd04b5a1764e9e74867ec916113eeaf4a1/skimage-0.0.tar.gz#sha256=6c96a11d9deea68489c9b80b38fad1dcdab582c36d4fa093b99b24a3b30c38ec (from https://pypi.org/simple/skimage/). Command errored out with exit status 1: python setup.py egg_info Check the logs for full command output.\u001b[0m\n",
            "\u001b[31mERROR: Could not find a version that satisfies the requirement skimage==0.0 (from versions: 0.0)\u001b[0m\n",
            "\u001b[31mERROR: No matching distribution found for skimage==0.0\u001b[0m\n"
          ]
        }
      ]
    },
    {
      "cell_type": "code",
      "metadata": {
        "colab": {
          "base_uri": "https://localhost:8080/"
        },
        "id": "ON2Qs3-BRg8J",
        "outputId": "07f36e04-654d-4efe-b213-dba51d94c96f"
      },
      "source": [
        "%cd .."
      ],
      "execution_count": 5,
      "outputs": [
        {
          "output_type": "stream",
          "name": "stdout",
          "text": [
            "/content\n"
          ]
        }
      ]
    },
    {
      "cell_type": "code",
      "metadata": {
        "colab": {
          "base_uri": "https://localhost:8080/"
        },
        "id": "VAf1ehyDRoOj",
        "outputId": "1a4676cf-37c0-49be-d8f3-7ca71923cbb9"
      },
      "source": [
        "!ls"
      ],
      "execution_count": 6,
      "outputs": [
        {
          "output_type": "stream",
          "name": "stdout",
          "text": [
            "Cirlcle-Detection-CNN  drive  sample_data\n"
          ]
        }
      ]
    },
    {
      "cell_type": "code",
      "metadata": {
        "id": "P_dIedkNgyrz"
      },
      "source": [
        "import numpy as np\n",
        "from skimage.draw import circle_perimeter_aa\n",
        "import csv\n",
        "import random\n",
        "\n",
        "\n",
        "def draw_circle(img, row, col, rad):\n",
        "    rr, cc, val = circle_perimeter_aa(row, col, rad)\n",
        "    valid = (\n",
        "        (rr >= 0) &\n",
        "        (rr < img.shape[0]) &\n",
        "        (cc >= 0) &\n",
        "        (cc < img.shape[1])\n",
        "    )\n",
        "    img[rr[valid], cc[valid]] = val[valid]\n",
        "\n",
        "\n",
        "def noisy_circle(size, radius, noise):\n",
        "    img = np.zeros((size, size), dtype=np.float)\n",
        "\n",
        "    # Circle\n",
        "    row = np.random.randint(size)\n",
        "    col = np.random.randint(size)\n",
        "    rad = np.random.randint(10, max(10, radius))\n",
        "    draw_circle(img, row, col, rad)\n",
        "\n",
        "    # Noise\n",
        "    img += random.uniform(0.01, 1) * noise * np.random.rand(*img.shape)\n",
        "    return (row, col, rad), img\n",
        "\n",
        "\n",
        "def train_set():\n",
        "    number_of_images = 50000\n",
        "    level_of_noise = 3.5\n",
        "    with open(\"train_set.csv\", 'w', newline='') as outFile:\n",
        "        header = ['NAME', 'ROW', 'COL', 'RAD']\n",
        "        write(outFile, header)\n",
        "        for i in range(number_of_images):\n",
        "            params, img = noisy_circle(200, 100, level_of_noise)\n",
        "            np.save(\"/content/drive/MyDrive/train_circle_v3/\" + str(i) + \".npy\", img)\n",
        "            write(outFile, [\"/content/drive/MyDrive/\" + str(i) + \".npy\", params[0], params[1], params[2]])\n",
        "\n",
        "\n",
        "def write(csvFile, row):\n",
        "    writer = csv.writer(csvFile)\n",
        "    writer.writerows([row])\n",
        "\n",
        "\n",
        "if __name__ == '__main__':\n",
        "    train_set()"
      ],
      "execution_count": 10,
      "outputs": []
    }
  ]
}