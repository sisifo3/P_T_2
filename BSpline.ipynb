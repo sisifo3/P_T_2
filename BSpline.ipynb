{
  "nbformat": 4,
  "nbformat_minor": 0,
  "metadata": {
    "colab": {
      "name": "BSpline.ipynb",
      "provenance": [],
      "authorship_tag": "ABX9TyNiG3V4BdR5Jc5G7Q9Zrbt3",
      "include_colab_link": true
    },
    "kernelspec": {
      "name": "python3",
      "display_name": "Python 3"
    },
    "language_info": {
      "name": "python"
    }
  },
  "cells": [
    {
      "cell_type": "markdown",
      "metadata": {
        "id": "view-in-github",
        "colab_type": "text"
      },
      "source": [
        "<a href=\"https://colab.research.google.com/github/sisifo3/P_T_2/blob/main/BSpline.ipynb\" target=\"_parent\"><img src=\"https://colab.research.google.com/assets/colab-badge.svg\" alt=\"Open In Colab\"/></a>"
      ]
    },
    {
      "cell_type": "code",
      "metadata": {
        "id": "01zO4bBXoADZ"
      },
      "source": [
        "# https://stackoverflow.com/questions/34803197/fast-b-spline-algorithm-with-numpy-scipy\n",
        "# by : Fnord\n",
        "\n",
        "\n",
        "import numpy as np\n",
        "import scipy.interpolate as si\n",
        "\n",
        "\n",
        "def bspline(cv, n=100, degree=3, periodic=False):\n",
        "    \"\"\" Calculate n samples on a bspline\n",
        "\n",
        "        cv :      Array ov control vertices\n",
        "        n  :      Number of samples to return\n",
        "        degree:   Curve degree\n",
        "        periodic: True - Curve is closed\n",
        "                  False - Curve is open\n",
        "    \"\"\"\n",
        "\n",
        "    # If periodic, extend the point array by count+degree+1\n",
        "    cv = np.asarray(cv)\n",
        "    count = len(cv)\n",
        "\n",
        "    if periodic:\n",
        "        factor, fraction = divmod(count+degree+1, count)\n",
        "        cv = np.concatenate((cv,) * factor + (cv[:fraction],))\n",
        "        count = len(cv)\n",
        "        degree = np.clip(degree,1,degree)\n",
        "\n",
        "    # If opened, prevent degree from exceeding count-1\n",
        "    else:\n",
        "        degree = np.clip(degree,1,count-1)\n",
        "\n",
        "\n",
        "    # Calculate knot vector\n",
        "    kv = None\n",
        "    if periodic:\n",
        "        kv = np.arange(0-degree,count+degree+degree-1,dtype='int')\n",
        "    else:\n",
        "        kv = np.concatenate(([0]*degree, np.arange(count-degree+1), [count-degree]*degree))\n",
        "\n",
        "\n",
        "    # Calculate query range\n",
        "    u = np.linspace(periodic,(count-degree),n)\n",
        "\n",
        "\n",
        "    # Calculate result\n",
        "    return np.array(si.splev(u, (kv,cv.T,degree))).T"
      ],
      "execution_count": 16,
      "outputs": []
    },
    {
      "cell_type": "code",
      "metadata": {
        "colab": {
          "base_uri": "https://localhost:8080/",
          "height": 1000
        },
        "id": "pbz0sosRoqfG",
        "outputId": "7f345c6a-e2f3-4625-fb10-ea5e5822728b"
      },
      "source": [
        "import matplotlib.pyplot as plt\n",
        "colors = ('b', 'g', 'r', 'c', 'm', 'y', 'k')\n",
        "\n",
        "cv = np.array([[ 50.,  25.],\n",
        "   [ 59.,  12.],\n",
        "   [ 50.,  10.],\n",
        "   [ 57.,   2.],\n",
        "   [ 40.,   4.],\n",
        "   [ 40.,   14.]])\n",
        "\n",
        "#cv = np.array([[100.95103092783505, 100.51030927835052], [63.43452380952381, 50.916666666666664], [72.05325443786982, 264.6686390532544], [87.40920716112532, 73.8542199488491], [97.16763005780346, 235.47687861271677], [107.93823529411765, 127.71470588235294], [111.00694444444444, 185.34722222222223], [106.59183673469387, 209.99489795918367], [115.8508064516129, 155.16129032258064]])\n",
        "#cv = np.array([[63.43452380952381, 50.916666666666664],[100.95103092783505, 100.51030927835052], [72.05325443786982, 264.6686390532544], [87.40920716112532, 73.8542199488491], [97.16763005780346, 235.47687861271677], [107.93823529411765, 127.71470588235294], [111.00694444444444, 185.34722222222223], [106.59183673469387, 209.99489795918367], [115.8508064516129, 155.16129032258064]])\n",
        "#cv = np.array([[63.43452380952381, 50.916666666666664],[87.40920716112532, 73.8542199488491],[100.95103092783505, 100.51030927835052], [72.05325443786982, 264.6686390532544], [97.16763005780346, 235.47687861271677], [107.93823529411765, 127.71470588235294], [111.00694444444444, 185.34722222222223], [106.59183673469387, 209.99489795918367], [115.8508064516129, 155.16129032258064]])\n",
        "#cv = np.array([[63.43452380952381, 50.916666666666664],[87.40920716112532, 73.8542199488491],[100.95103092783505, 100.51030927835052], [107.93823529411765, 127.71470588235294], [72.05325443786982, 264.6686390532544], [97.16763005780346, 235.47687861271677], [111.00694444444444, 185.34722222222223], [106.59183673469387, 209.99489795918367], [115.8508064516129, 155.16129032258064]])\n",
        "#cv = np.array([[63.43452380952381, 50.916666666666664],[87.40920716112532, 73.8542199488491],[100.95103092783505, 100.51030927835052], [107.93823529411765, 127.71470588235294],  [115.8508064516129, 155.16129032258064],[72.05325443786982, 264.6686390532544], [97.16763005780346, 235.47687861271677], [111.00694444444444, 185.34722222222223], [106.59183673469387, 209.99489795918367]])\n",
        "#cv = np.array([[63.43452380952381, 50.916666666666664],[87.40920716112532, 73.8542199488491],[100.95103092783505, 100.51030927835052], [107.93823529411765, 127.71470588235294],  [115.8508064516129, 155.16129032258064], [97.16763005780346, 235.47687861271677], [111.00694444444444, 185.34722222222223], [106.59183673469387, 209.99489795918367], [72.05325443786982, 264.6686390532544]])\n",
        "#cv = np.array([[63.43452380952381, 50.916666666666664],[87.40920716112532, 73.8542199488491],[100.95103092783505, 100.51030927835052], [107.93823529411765, 127.71470588235294],  [115.8508064516129, 155.16129032258064], [97.16763005780346, 235.47687861271677], [106.59183673469387, 209.99489795918367],[111.00694444444444, 185.34722222222223],  [72.05325443786982, 264.6686390532544]])\n",
        "#cv = np.array([[63.43452380952381, 50.916666666666664],[87.40920716112532, 73.8542199488491],[100.95103092783505, 100.51030927835052], [107.93823529411765, 127.71470588235294],  [115.8508064516129, 155.16129032258064], [106.59183673469387, 209.99489795918367],[111.00694444444444, 185.34722222222223], [97.16763005780346, 235.47687861271677] ,[72.05325443786982, 264.6686390532544]])\n",
        "#cv = np.array([[63.43452380952381, 50.916666666666664],[87.40920716112532, 73.8542199488491],[100.95103092783505, 100.51030927835052], [107.93823529411765, 127.71470588235294],  [115.8508064516129, 155.16129032258064],[111.00694444444444, 185.34722222222223],[106.59183673469387, 209.99489795918367] ,[97.16763005780346, 235.47687861271677] ,[72.05325443786982, 264.6686390532544]])\n",
        "cv = np.array([[63.43452380952381, 50.916666666666664],[87.40920716112532, 73.8542199488491],[100.95103092783505, 100.51030927835052], [107.93823529411765, 127.71470588235294], [115.8508064516129, 155.16129032258064],[108.56349206349206, 181.79761904761904],[110.31174089068826, 210.78542510121457],[96.30513595166163, 236.06344410876133] ,[72.05325443786982, 264.6686390532544]])\n",
        "\n",
        "\n",
        "plt.plot(cv[:,1],cv[:,0], 'o-', label='Control Points')\n",
        "\n",
        "d = 4\n",
        "\n",
        "p = bspline(cv,n=100,degree=d,periodic=False)\n",
        "x,y = p.T\n",
        "plt.plot(y,x,'k-',label='Degree %s'%d,color=colors[d%len(colors)])\n",
        "print(p)\n",
        "plt.minorticks_on()\n",
        "#plt.legend()\n",
        "plt.xlabel('x')\n",
        "plt.ylabel('y')\n",
        "plt.xlim(0, 300)\n",
        "plt.ylim(0, 150)\n",
        "plt.gca().set_aspect('equal', adjustable='box')\n",
        "plt.show()"
      ],
      "execution_count": 36,
      "outputs": [
        {
          "output_type": "stream",
          "name": "stdout",
          "text": [
            "[[ 63.43452381  50.91666667]\n",
            " [ 68.02222812  55.40725663]\n",
            " [ 72.12839557  59.62621569]\n",
            " [ 75.79608758  63.59508072]\n",
            " [ 79.06619019  67.33432955]\n",
            " [ 81.97741413  70.86338089]\n",
            " [ 84.56629475  74.2005944 ]\n",
            " [ 86.86719207  77.36327063]\n",
            " [ 88.91229074  80.36765108]\n",
            " [ 90.73160009  83.22891814]\n",
            " [ 92.35295407  85.96119516]\n",
            " [ 93.8020113   88.57754636]\n",
            " [ 95.10225506  91.08997692]\n",
            " [ 96.27499326  93.50943292]\n",
            " [ 97.33935846  95.84580136]\n",
            " [ 98.3123079   98.10791018]\n",
            " [ 99.20862344 100.3035282 ]\n",
            " [100.04091161 102.43936521]\n",
            " [100.81960358 104.52107187]\n",
            " [101.55295517 106.55323979]\n",
            " [102.247047   108.53940157]\n",
            " [102.90594981 110.48211704]\n",
            " [103.53277108 112.38351933]\n",
            " [104.1303315  114.24566773]\n",
            " [104.70119768 116.07056481]\n",
            " [105.24768225 117.86015642]\n",
            " [105.77184377 119.61633168]\n",
            " [106.27548679 121.340923  ]\n",
            " [106.7601618  123.03570607]\n",
            " [107.2271653  124.70239984]\n",
            " [107.67753971 126.34266656]\n",
            " [108.11207347 127.95811174]\n",
            " [108.53130093 129.55028419]\n",
            " [108.93550247 131.12067598]\n",
            " [109.32470438 132.67072246]\n",
            " [109.69867897 134.20180227]\n",
            " [110.05694447 135.71523731]\n",
            " [110.3987651  137.21229278]\n",
            " [110.72315107 138.69417715]\n",
            " [111.02885852 140.16204216]\n",
            " [111.31439012 141.61698293]\n",
            " [111.57807321 143.06005157]\n",
            " [111.81835934 144.49230935]\n",
            " [112.03394854 145.91484834]\n",
            " [112.22379211 147.3287919 ]\n",
            " [112.38709256 148.73529468]\n",
            " [112.52330366 150.13554263]\n",
            " [112.63213042 151.53075296]\n",
            " [112.71352907 152.92217418]\n",
            " [112.7677071  154.3110861 ]\n",
            " [112.79512323 155.6987998 ]\n",
            " [112.79648743 157.08665765]\n",
            " [112.77276089 158.4760333 ]\n",
            " [112.72515606 159.8683317 ]\n",
            " [112.65513662 161.26498909]\n",
            " [112.56441749 162.66747298]\n",
            " [112.45496484 164.07728218]\n",
            " [112.32899606 165.49594678]\n",
            " [112.18897979 166.92502816]\n",
            " [112.03763592 168.36611898]\n",
            " [111.87793139 169.82084279]\n",
            " [111.71289042 171.29083512]\n",
            " [111.54513719 172.77769805]\n",
            " [111.37677651 174.28298832]\n",
            " [111.20939298 175.80821725]\n",
            " [111.04405101 177.35485075]\n",
            " [110.8812948  178.92430934]\n",
            " [110.72114835 180.51796808]\n",
            " [110.56311544 182.13715665]\n",
            " [110.40617966 183.7831593 ]\n",
            " [110.24880441 185.45721488]\n",
            " [110.08893287 187.16051681]\n",
            " [109.92398801 188.89421311]\n",
            " [109.75087261 190.65940637]\n",
            " [109.56596925 192.45715377]\n",
            " [109.3651403  194.28846709]\n",
            " [109.14372792 196.15431268]\n",
            " [108.89655408 198.05561148]\n",
            " [108.61792054 199.99323902]\n",
            " [108.30160886 201.9680254 ]\n",
            " [107.94085952 203.98079405]\n",
            " [107.52794168 206.0331602 ]\n",
            " [107.05348734 208.1287665 ]\n",
            " [106.50638619 210.2734782 ]\n",
            " [105.87378554 212.47538329]\n",
            " [105.14109027 214.74479253]\n",
            " [104.29196289 217.09423944]\n",
            " [103.30832349 219.53848028]\n",
            " [102.17034978 222.09449406]\n",
            " [100.85647704 224.78148258]\n",
            " [ 99.34339819 227.62087036]\n",
            " [ 97.60606372 230.63630469]\n",
            " [ 95.61768175 233.85365561]\n",
            " [ 93.34971796 237.30101593]\n",
            " [ 90.77189567 241.0087012 ]\n",
            " [ 87.85219579 245.00924972]\n",
            " [ 84.55685681 249.33742257]\n",
            " [ 80.85037486 254.03020357]\n",
            " [ 76.69550363 259.12679928]\n",
            " [ 72.05325444 264.66863905]]\n"
          ]
        },
        {
          "output_type": "display_data",
          "data": {
            "image/png": "[encoded data removed]",
            "text/plain": [
              "<Figure size 432x288 with 1 Axes>"
            ]
          },
          "metadata": {
            "needs_background": "light"
          }
        }
      ]
    },
    {
      "cell_type": "code",
      "metadata": {
        "id": "PdVanB-cqWK0"
      },
      "source": [
        "#cv = np.array([[63.43452380952381, 50.916666666666664],[87.40920716112532, 73.8542199488491],[100.95103092783505, 100.51030927835052], [107.93823529411765, 127.71470588235294],  [115.8508064516129, 155.16129032258064],[111.00694444444444, 185.34722222222223],[106.59183673469387, 209.99489795918367] ,[97.16763005780346, 235.47687861271677] ,[72.05325443786982, 264.6686390532544]])\n"
      ],
      "execution_count": 27,
      "outputs": []
    },
    {
      "cell_type": "code",
      "metadata": {
        "id": "UA24z5qbrOF5"
      },
      "source": [
        "[[63.43452380952381, 50.916666666666664],[87.40920716112532, 73.8542199488491],[100.95103092783505, 100.51030927835052], [107.93823529411765, 127.71470588235294], [115.8508064516129, 155.16129032258064],[108.56349206349206, 181.79761904761904],[110.31174089068826, 210.78542510121457],[96.30513595166163, 236.06344410876133] ,[72.05325443786982, 264.6686390532544]]\n"
      ],
      "execution_count": null,
      "outputs": []
    },
    {
      "cell_type": "code",
      "metadata": {
        "id": "GI2FyaJ0qxRb"
      },
      "source": [
        "[ 63.43452381 , 50.91666667], [ 84.56629475 , 74.2005944 ], [ 99.20862344 , 100.3035282 ],\n",
        " [108.11207347 , 127.95811174],  [112.79512323 155.6987998 ],  [110.56311544 182.13715665],\n",
        " [106.50638619 210.2734782 ],  [ 93.34971796 237.30101593] , [ 72.05325444 264.66863905]]\n"
      ],
      "execution_count": null,
      "outputs": []
    }
  ]
}